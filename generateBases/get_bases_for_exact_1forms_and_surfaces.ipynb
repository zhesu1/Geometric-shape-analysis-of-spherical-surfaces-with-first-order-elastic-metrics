{
 "cells": [
  {
   "cell_type": "markdown",
   "metadata": {},
   "source": [
    "This script is used to generate **a truncated basis** for the space of immersions $\\operatorname{Imm}(S^2, \\mathbb{R}^3)$ with a maximal degree **max_deg** and a resolution **Num_phi $\\times$ Num_theta**. Here **Num_phi** denotes the number of discrete polar angle $\\phi\\in [0,\\pi]$ and **Num_theta** is the number of discrete azimuthal angle $\\theta\\in[0, 2\\pi]$. To use the main code of matching surfaces, **Num_theta** must be odd and the bases mat file should be moved to the folder \"Bases\"."
   ]
  },
  {
   "cell_type": "code",
   "execution_count": null,
   "metadata": {},
   "outputs": [],
   "source": [
    "from packages.Bases1FormsSurfaces import *\n",
    "\n",
    "Num_phi, Num_theta = 25, 49 # Num_theta should be odd"
   ]
  },
  {
   "cell_type": "code",
   "execution_count": 1,
   "metadata": {},
   "outputs": [],
   "source": [
    "max_deg = 25 # this is fixed to be 25 in the main code\n",
    "B_Sph, B_1forms = get_basis_of_exact_one_forms(max_deg, Num_phi, Num_theta)"
   ]
  },
  {
   "cell_type": "code",
   "execution_count": 2,
   "metadata": {},
   "outputs": [],
   "source": [
    "import scipy.io as sio\n",
    "sio.savemat('BasesResults/basis_exact_1forms_deg{0}_{1}_{2}.mat'.format(max_deg, Num_phi, Num_theta),\\\n",
    "            {'Basis_Sph':B_Sph.numpy(),'Basis':B_1forms.numpy()},do_compression=True)"
   ]
  },
  {
   "cell_type": "code",
   "execution_count": null,
   "metadata": {},
   "outputs": [],
   "source": []
  }
 ],
 "metadata": {
  "kernelspec": {
   "display_name": "Python 3",
   "language": "python",
   "name": "python3"
  },
  "language_info": {
   "codemirror_mode": {
    "name": "ipython",
    "version": 3
   },
   "file_extension": ".py",
   "mimetype": "text/x-python",
   "name": "python",
   "nbconvert_exporter": "python",
   "pygments_lexer": "ipython3",
   "version": "3.7.2"
  },
  "varInspector": {
   "cols": {
    "lenName": 16,
    "lenType": 16,
    "lenVar": 40
   },
   "kernels_config": {
    "python": {
     "delete_cmd_postfix": "",
     "delete_cmd_prefix": "del ",
     "library": "var_list.py",
     "varRefreshCmd": "print(var_dic_list())"
    },
    "r": {
     "delete_cmd_postfix": ") ",
     "delete_cmd_prefix": "rm(",
     "library": "var_list.r",
     "varRefreshCmd": "cat(var_dic_list()) "
    }
   },
   "types_to_exclude": [
    "module",
    "function",
    "builtin_function_or_method",
    "instance",
    "_Feature"
   ],
   "window_display": false
  }
 },
 "nbformat": 4,
 "nbformat_minor": 2
}
